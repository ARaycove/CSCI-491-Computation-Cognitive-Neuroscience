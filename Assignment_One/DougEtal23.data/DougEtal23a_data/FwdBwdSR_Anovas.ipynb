{
 "cells": [
  {
   "cell_type": "markdown",
   "id": "41da2286-0a61-4c8d-b641-121844026d57",
   "metadata": {},
   "source": [
    "# Multivariate Statistical Tests"
   ]
  },
  {
   "cell_type": "markdown",
   "id": "8a6680e6-55c6-4b22-b885-84944c26a924",
   "metadata": {
    "jp-MarkdownHeadingCollapsed": true,
    "tags": []
   },
   "source": [
    "## Recall Initiation"
   ]
  },
  {
   "cell_type": "code",
   "execution_count": 1,
   "id": "1d2ddf3c-cd87-4270-b9eb-903f7694a331",
   "metadata": {},
   "outputs": [
    {
     "data": {
      "text/plain": [
       "\n",
       "Error: subject\n",
       "           Df Sum Sq Mean Sq F value Pr(>F)\n",
       "Residuals 521  171.8  0.3296               \n",
       "\n",
       "Error: subject:how\n",
       "           Df Sum Sq Mean Sq F value   Pr(>F)    \n",
       "how         1   4.13   4.135   27.84 1.94e-07 ***\n",
       "Residuals 521  77.38   0.149                     \n",
       "---\n",
       "Signif. codes:  0 ‘***’ 0.001 ‘**’ 0.01 ‘*’ 0.05 ‘.’ 0.1 ‘ ’ 1\n",
       "\n",
       "Error: subject:when\n",
       "           Df Sum Sq Mean Sq F value   Pr(>F)    \n",
       "when        1  0.508  0.5085   11.93 0.000598 ***\n",
       "Residuals 521 22.209  0.0426                     \n",
       "---\n",
       "Signif. codes:  0 ‘***’ 0.001 ‘**’ 0.01 ‘*’ 0.05 ‘.’ 0.1 ‘ ’ 1\n",
       "\n",
       "Error: subject:how:when\n",
       "           Df Sum Sq Mean Sq F value   Pr(>F)    \n",
       "how:when    1  0.671  0.6705   17.23 3.87e-05 ***\n",
       "Residuals 521 20.276  0.0389                     \n",
       "---\n",
       "Signif. codes:  0 ‘***’ 0.001 ‘**’ 0.01 ‘*’ 0.05 ‘.’ 0.1 ‘ ’ 1"
      ]
     },
     "metadata": {},
     "output_type": "display_data"
    }
   ],
   "source": [
    "pfr <- read.csv('./Stat_CSVs/PFR_Stats')\n",
    "\n",
    "pfr <- within(pfr, {how <- factor(how) #cue\n",
    "  when <- factor(when) #dir\n",
    "  subject <- factor(subject) #subject\n",
    "})\n",
    "\n",
    "pfr.aov <- aov(probability ~ how * when + Error(subject/(how * when)), data = pfr)\n",
    "summary(pfr.aov)"
   ]
  },
  {
   "cell_type": "markdown",
   "id": "bffc225c-ceb2-4b9c-b295-ee935967287d",
   "metadata": {
    "jp-MarkdownHeadingCollapsed": true,
    "tags": []
   },
   "source": [
    "## Serial Recall Probability"
   ]
  },
  {
   "cell_type": "code",
   "execution_count": 2,
   "id": "8fdabc01-0765-443d-a9ba-a5d8951aa980",
   "metadata": {},
   "outputs": [
    {
     "data": {
      "text/plain": [
       "\n",
       "Error: subject\n",
       "           Df Sum Sq Mean Sq F value Pr(>F)\n",
       "Residuals 524  546.9   1.044               \n",
       "\n",
       "Error: subject:how\n",
       "           Df Sum Sq Mean Sq F value Pr(>F)\n",
       "how         1    0.0  0.0020   0.009  0.925\n",
       "Residuals 524  119.4  0.2278               \n",
       "\n",
       "Error: subject:when\n",
       "           Df Sum Sq Mean Sq F value   Pr(>F)    \n",
       "when        1   1.87   1.868    26.3 4.11e-07 ***\n",
       "Residuals 524  37.21   0.071                     \n",
       "---\n",
       "Signif. codes:  0 ‘***’ 0.001 ‘**’ 0.01 ‘*’ 0.05 ‘.’ 0.1 ‘ ’ 1\n",
       "\n",
       "Error: subject:x_values\n",
       "            Df Sum Sq Mean Sq F value Pr(>F)    \n",
       "x_values     8  395.8   49.47   698.4 <2e-16 ***\n",
       "Residuals 4192  296.9    0.07                   \n",
       "---\n",
       "Signif. codes:  0 ‘***’ 0.001 ‘**’ 0.01 ‘*’ 0.05 ‘.’ 0.1 ‘ ’ 1\n",
       "\n",
       "Error: subject:how:when\n",
       "           Df Sum Sq Mean Sq F value Pr(>F)\n",
       "how:when    1   0.09 0.09032   1.557  0.213\n",
       "Residuals 524  30.39 0.05800               \n",
       "\n",
       "Error: subject:how:x_values\n",
       "               Df Sum Sq Mean Sq F value Pr(>F)    \n",
       "how:x_values    8   9.34  1.1670   21.12 <2e-16 ***\n",
       "Residuals    4192 231.66  0.0553                   \n",
       "---\n",
       "Signif. codes:  0 ‘***’ 0.001 ‘**’ 0.01 ‘*’ 0.05 ‘.’ 0.1 ‘ ’ 1\n",
       "\n",
       "Error: subject:when:x_values\n",
       "                Df Sum Sq Mean Sq F value Pr(>F)    \n",
       "when:x_values    8   5.33  0.6659   24.94 <2e-16 ***\n",
       "Residuals     4192 111.92  0.0267                   \n",
       "---\n",
       "Signif. codes:  0 ‘***’ 0.001 ‘**’ 0.01 ‘*’ 0.05 ‘.’ 0.1 ‘ ’ 1\n",
       "\n",
       "Error: subject:how:when:x_values\n",
       "                    Df Sum Sq Mean Sq F value   Pr(>F)    \n",
       "how:when:x_values    8   0.88  0.1099   4.258 4.14e-05 ***\n",
       "Residuals         4192 108.15  0.0258                     \n",
       "---\n",
       "Signif. codes:  0 ‘***’ 0.001 ‘**’ 0.01 ‘*’ 0.05 ‘.’ 0.1 ‘ ’ 1"
      ]
     },
     "metadata": {},
     "output_type": "display_data"
    }
   ],
   "source": [
    "eosspc <- read.csv('./Stat_CSVs/SPC_Stats')\n",
    "\n",
    "eosspc <- within(eosspc, {how <- factor(how) #cue\n",
    "  when <- factor(when) #dir\n",
    "  subject <- factor(subject)\n",
    "  x_values <- factor(x_values)\n",
    "})\n",
    "\n",
    "eosspc.aov <- aov(probability ~ how * when * x_values + Error(subject/(how * when * x_values)), data = eosspc)\n",
    "summary(eosspc.aov)"
   ]
  },
  {
   "cell_type": "markdown",
   "id": "7abae910-d808-484f-9c72-5c1384f31742",
   "metadata": {
    "jp-MarkdownHeadingCollapsed": true,
    "tags": []
   },
   "source": [
    "## Recall Transitions"
   ]
  },
  {
   "cell_type": "markdown",
   "id": "0060ef1f-fbbd-4a98-952e-dd5ea755ce73",
   "metadata": {
    "tags": []
   },
   "source": [
    "### All transitions"
   ]
  },
  {
   "cell_type": "code",
   "execution_count": 3,
   "id": "ee01dacb-b931-4b62-accf-03b4c0620b28",
   "metadata": {},
   "outputs": [
    {
     "data": {
      "text/plain": [
       "\n",
       "Error: subject\n",
       "           Df Sum Sq Mean Sq F value Pr(>F)\n",
       "Residuals 462  24.19 0.05235               \n",
       "\n",
       "Error: subject:how\n",
       "           Df Sum Sq Mean Sq F value   Pr(>F)    \n",
       "how         1  3.067  3.0669   71.16 4.25e-16 ***\n",
       "Residuals 462 19.911  0.0431                     \n",
       "---\n",
       "Signif. codes:  0 ‘***’ 0.001 ‘**’ 0.01 ‘*’ 0.05 ‘.’ 0.1 ‘ ’ 1\n",
       "\n",
       "Error: subject:when\n",
       "           Df Sum Sq Mean Sq F value  Pr(>F)   \n",
       "when        1  0.203 0.20306   9.211 0.00254 **\n",
       "Residuals 462 10.184 0.02204                   \n",
       "---\n",
       "Signif. codes:  0 ‘***’ 0.001 ‘**’ 0.01 ‘*’ 0.05 ‘.’ 0.1 ‘ ’ 1\n",
       "\n",
       "Error: subject:how:when\n",
       "           Df Sum Sq Mean Sq F value Pr(>F)\n",
       "how:when    1  0.013 0.01324   0.662  0.416\n",
       "Residuals 462  9.231 0.01998               "
      ]
     },
     "metadata": {},
     "output_type": "display_data"
    }
   ],
   "source": [
    "negonelag_crp <- read.csv('./Stat_CSVs/Lag_NegOne_Cue')\n",
    "\n",
    "negonelag_crp <- within(negonelag_crp, {how <- factor(how) #cue\n",
    "  when <- factor(when) #dir\n",
    "  subject <- factor(subject) #subject\n",
    "})\n",
    "\n",
    "negonelag_crp.aov <- aov(probability ~ how * when + Error(subject/(how * when)), data = negonelag_crp)\n",
    "summary(negonelag_crp.aov)"
   ]
  },
  {
   "cell_type": "code",
   "execution_count": 4,
   "id": "cc7b030d-0ddd-4469-93e3-83eadc80a5c8",
   "metadata": {},
   "outputs": [
    {
     "data": {
      "text/plain": [
       "\n",
       "Error: subject\n",
       "           Df Sum Sq Mean Sq F value Pr(>F)\n",
       "Residuals 479  72.76  0.1519               \n",
       "\n",
       "Error: subject:how\n",
       "           Df Sum Sq Mean Sq F value   Pr(>F)    \n",
       "how         1   0.76  0.7600   17.41 3.59e-05 ***\n",
       "Residuals 479  20.91  0.0437                     \n",
       "---\n",
       "Signif. codes:  0 ‘***’ 0.001 ‘**’ 0.01 ‘*’ 0.05 ‘.’ 0.1 ‘ ’ 1\n",
       "\n",
       "Error: subject:when\n",
       "           Df Sum Sq Mean Sq F value   Pr(>F)    \n",
       "when        1  0.351  0.3505   19.21 1.44e-05 ***\n",
       "Residuals 479  8.738  0.0182                     \n",
       "---\n",
       "Signif. codes:  0 ‘***’ 0.001 ‘**’ 0.01 ‘*’ 0.05 ‘.’ 0.1 ‘ ’ 1\n",
       "\n",
       "Error: subject:how:when\n",
       "           Df Sum Sq  Mean Sq F value Pr(>F)\n",
       "how:when    1  0.001 0.000881   0.047  0.829\n",
       "Residuals 479  9.068 0.018930               "
      ]
     },
     "metadata": {},
     "output_type": "display_data"
    }
   ],
   "source": [
    "posonelag_crp <- read.csv('./Stat_CSVs/Lag_PosOne_Cue')\n",
    "\n",
    "posonelag_crp <- within(posonelag_crp, {how <- factor(how) #cue\n",
    "  when <- factor(when) #dir\n",
    "  subject <- factor(subject) #subject\n",
    "})\n",
    "\n",
    "posonelag_crp.aov <- aov(probability ~ how * when + Error(subject/(how * when)), data = posonelag_crp)\n",
    "summary(posonelag_crp.aov)"
   ]
  },
  {
   "cell_type": "markdown",
   "id": "03af7727-0614-4215-ab40-1c3b451a7738",
   "metadata": {
    "tags": []
   },
   "source": [
    "### Following First Order Error"
   ]
  },
  {
   "cell_type": "code",
   "execution_count": 5,
   "id": "198d13a1-0015-4321-a9ff-9aeb819e02a1",
   "metadata": {},
   "outputs": [
    {
     "data": {
      "text/plain": [
       "\n",
       "Error: subject\n",
       "          Df Sum Sq Mean Sq F value Pr(>F)\n",
       "Residuals 69  3.939 0.05709               \n",
       "\n",
       "Error: subject:how\n",
       "          Df Sum Sq Mean Sq F value Pr(>F)  \n",
       "how        1  0.229 0.22857   4.564 0.0362 *\n",
       "Residuals 69  3.455 0.05008                 \n",
       "---\n",
       "Signif. codes:  0 ‘***’ 0.001 ‘**’ 0.01 ‘*’ 0.05 ‘.’ 0.1 ‘ ’ 1\n",
       "\n",
       "Error: subject:when\n",
       "          Df Sum Sq Mean Sq F value Pr(>F)\n",
       "when       1 0.0834 0.08343   2.049  0.157\n",
       "Residuals 69 2.8089 0.04071               \n",
       "\n",
       "Error: subject:how:when\n",
       "          Df Sum Sq Mean Sq F value Pr(>F)\n",
       "how:when   1 0.0063 0.00635   0.184  0.669\n",
       "Residuals 69 2.3791 0.03448               "
      ]
     },
     "metadata": {},
     "output_type": "display_data"
    }
   ],
   "source": [
    "negonelag_foecrp <- read.csv('./Stat_CSVs/FOE_Lag_NegOne_Cue')\n",
    "\n",
    "negonelag_foecrp <- within(negonelag_foecrp, {how <- factor(how) #cue\n",
    "  when <- factor(when) #dir\n",
    "  subject <- factor(subject) #subject\n",
    "})\n",
    "\n",
    "negonelag_foecrp.aov <- aov(probability ~ how * when + Error(subject/(how * when)), data = negonelag_foecrp)\n",
    "summary(negonelag_foecrp.aov)"
   ]
  },
  {
   "cell_type": "markdown",
   "id": "5acce27d-327e-4591-be9b-52a6d306eb7f",
   "metadata": {
    "tags": []
   },
   "source": [
    "## List Length Differences"
   ]
  },
  {
   "cell_type": "markdown",
   "id": "a0252d7d-544b-4b2f-a9be-f95c47ab3626",
   "metadata": {
    "jp-MarkdownHeadingCollapsed": true,
    "tags": []
   },
   "source": [
    "### Overall Recall Probability"
   ]
  },
  {
   "cell_type": "code",
   "execution_count": 7,
   "id": "7c3db06e-78e4-4e15-b949-1956b6969e78",
   "metadata": {},
   "outputs": [
    {
     "data": {
      "text/plain": [
       "\n",
       "Error: subject\n",
       "                   Df Sum Sq Mean Sq F value Pr(>F)\n",
       "factor(condition)   2   0.47  0.2358   1.374  0.254\n",
       "Residuals         522  89.55  0.1716               \n",
       "\n",
       "Error: subject:how\n",
       "                       Df Sum Sq Mean Sq F value Pr(>F)\n",
       "how                     1  0.034 0.03425   1.100  0.295\n",
       "how:factor(condition)   2  0.051 0.02546   0.818  0.442\n",
       "Residuals             522 16.253 0.03114               \n",
       "\n",
       "Error: subject:list_length\n",
       "                                Df Sum Sq Mean Sq F value Pr(>F)    \n",
       "list_length                      2  5.465  2.7326   407.6 <2e-16 ***\n",
       "list_length:factor(condition)    4  0.657  0.1643    24.5 <2e-16 ***\n",
       "Residuals                     1044  6.999  0.0067                   \n",
       "---\n",
       "Signif. codes:  0 ‘***’ 0.001 ‘**’ 0.01 ‘*’ 0.05 ‘.’ 0.1 ‘ ’ 1\n",
       "\n",
       "Error: subject:how:list_length\n",
       "                                    Df Sum Sq Mean Sq F value   Pr(>F)    \n",
       "how:list_length                      2  0.168 0.08381  22.414 2.94e-10 ***\n",
       "how:list_length:factor(condition)    4  0.009 0.00215   0.575    0.681    \n",
       "Residuals                         1044  3.904 0.00374                     \n",
       "---\n",
       "Signif. codes:  0 ‘***’ 0.001 ‘**’ 0.01 ‘*’ 0.05 ‘.’ 0.1 ‘ ’ 1"
      ]
     },
     "metadata": {},
     "output_type": "display_data"
    }
   ],
   "source": [
    "ROS_diff <- read.csv(\"./Stat_CSVs/Differences_ROS\")\n",
    "aov_test_prob <- aov(probability ~ \n",
    "                       (how * list_length * factor(condition) + \n",
    "                          Error(subject / (how * list_length))) + \n",
    "                       factor(condition), \n",
    "                ROS_diff)\n",
    "summary(aov_test_prob)"
   ]
  },
  {
   "cell_type": "markdown",
   "id": "19af8bef-4a7d-4686-b8f3-7611e4709c1e",
   "metadata": {
    "jp-MarkdownHeadingCollapsed": true,
    "tags": []
   },
   "source": [
    "### Recall Initiation"
   ]
  },
  {
   "cell_type": "code",
   "execution_count": 6,
   "id": "0ee4f536-c88c-45a5-ac72-0111b68d706a",
   "metadata": {},
   "outputs": [
    {
     "data": {
      "text/plain": [
       "\n",
       "Error: subject\n",
       "                   Df Sum Sq Mean Sq F value Pr(>F)\n",
       "factor(condition)   2   1.62  0.8089   1.781   0.17\n",
       "Residuals         521 236.69  0.4543               \n",
       "\n",
       "Error: subject:how\n",
       "                       Df Sum Sq Mean Sq F value   Pr(>F)    \n",
       "how                     1   4.23   4.233  23.317 1.81e-06 ***\n",
       "how:factor(condition)   2   0.83   0.414   2.281    0.103    \n",
       "Residuals             521  94.58   0.182                     \n",
       "---\n",
       "Signif. codes:  0 ‘***’ 0.001 ‘**’ 0.01 ‘*’ 0.05 ‘.’ 0.1 ‘ ’ 1\n",
       "\n",
       "Error: subject:list_length\n",
       "                                Df Sum Sq Mean Sq F value Pr(>F)    \n",
       "list_length                      2  1.669  0.8344  42.824 <2e-16 ***\n",
       "list_length:factor(condition)    4  0.182  0.0456   2.341 0.0533 .  \n",
       "Residuals                     1042 20.303  0.0195                   \n",
       "---\n",
       "Signif. codes:  0 ‘***’ 0.001 ‘**’ 0.01 ‘*’ 0.05 ‘.’ 0.1 ‘ ’ 1\n",
       "\n",
       "Error: subject:how:list_length\n",
       "                                    Df Sum Sq Mean Sq F value   Pr(>F)    \n",
       "how:list_length                      2  1.245  0.6225  33.879 5.56e-15 ***\n",
       "how:list_length:factor(condition)    4  0.247  0.0618   3.364  0.00955 ** \n",
       "Residuals                         1042 19.146  0.0184                     \n",
       "---\n",
       "Signif. codes:  0 ‘***’ 0.001 ‘**’ 0.01 ‘*’ 0.05 ‘.’ 0.1 ‘ ’ 1"
      ]
     },
     "metadata": {},
     "output_type": "display_data"
    }
   ],
   "source": [
    "PFR_diff <- read.csv(\"./Stat_CSVs/Differences_PFR\")\n",
    "aov_test_prob <- aov(probability ~ \n",
    "                       (how * list_length * factor(condition) + \n",
    "                          Error(subject / (how * list_length))) + \n",
    "                       factor(condition), \n",
    "                PFR_diff)\n",
    "summary(aov_test_prob)"
   ]
  },
  {
   "cell_type": "markdown",
   "id": "2839e30b-ae41-494d-85d2-319fe8d16e39",
   "metadata": {
    "jp-MarkdownHeadingCollapsed": true,
    "tags": []
   },
   "source": [
    "### Fill-in Transitions"
   ]
  },
  {
   "cell_type": "code",
   "execution_count": 8,
   "id": "10a903b5-562b-41b1-ba56-f41b2d936c41",
   "metadata": {},
   "outputs": [
    {
     "data": {
      "text/plain": [
       "\n",
       "Error: subject\n",
       "                   Df Sum Sq Mean Sq F value Pr(>F)\n",
       "factor(condition)   2  0.037 0.01826   0.295  0.745\n",
       "Residuals         477 29.516 0.06188               \n",
       "\n",
       "Error: subject:how\n",
       "                       Df Sum Sq Mean Sq F value Pr(>F)    \n",
       "how                     1  4.018   4.018  88.749 <2e-16 ***\n",
       "how:factor(condition)   2  0.055   0.027   0.606  0.546    \n",
       "Residuals             477 21.595   0.045                   \n",
       "---\n",
       "Signif. codes:  0 ‘***’ 0.001 ‘**’ 0.01 ‘*’ 0.05 ‘.’ 0.1 ‘ ’ 1\n",
       "\n",
       "Error: subject:list_length\n",
       "                               Df Sum Sq Mean Sq F value   Pr(>F)    \n",
       "list_length                     2  0.219 0.10959   7.994 0.000361 ***\n",
       "list_length:factor(condition)   4  0.462 0.11544   8.421 1.12e-06 ***\n",
       "Residuals                     954 13.079 0.01371                     \n",
       "---\n",
       "Signif. codes:  0 ‘***’ 0.001 ‘**’ 0.01 ‘*’ 0.05 ‘.’ 0.1 ‘ ’ 1\n",
       "\n",
       "Error: subject:how:list_length\n",
       "                                   Df Sum Sq Mean Sq F value Pr(>F)\n",
       "how:list_length                     2  0.012 0.00623   0.482  0.618\n",
       "how:list_length:factor(condition)   4  0.079 0.01983   1.533  0.190\n",
       "Residuals                         954 12.338 0.01293               "
      ]
     },
     "metadata": {},
     "output_type": "display_data"
    }
   ],
   "source": [
    "CRP_diff <- read.csv(\"./Stat_CSVs/Differences_CRP\")\n",
    "aov_test_prob <- aov(probability ~ \n",
    "                       (how * list_length * factor(condition) + \n",
    "                          Error(subject / (how * list_length))) + \n",
    "                       factor(condition), \n",
    "                CRP_diff)\n",
    "summary(aov_test_prob)"
   ]
  },
  {
   "cell_type": "markdown",
   "id": "bd6151a9-c32f-4cfd-a46e-1cf049d7e88b",
   "metadata": {
    "tags": []
   },
   "source": [
    "## IRTs"
   ]
  },
  {
   "cell_type": "code",
   "execution_count": 1,
   "id": "de7a3b72-a9af-451e-99b0-1f86133a1fa0",
   "metadata": {},
   "outputs": [
    {
     "name": "stderr",
     "output_type": "stream",
     "text": [
      "Loading required package: Matrix\n",
      "Registered S3 methods overwritten by 'ggplot2':\n",
      "  method         from \n",
      "  [.quosures     rlang\n",
      "  c.quosures     rlang\n",
      "  print.quosures rlang\n",
      "\n",
      "Attaching package: ‘lmerTest’\n",
      "\n",
      "The following object is masked from ‘package:lme4’:\n",
      "\n",
      "    lmer\n",
      "\n",
      "The following object is masked from ‘package:stats’:\n",
      "\n",
      "    step\n",
      "\n"
     ]
    }
   ],
   "source": [
    "library(lme4)\n",
    "library(lmerTest)"
   ]
  },
  {
   "cell_type": "code",
   "execution_count": 5,
   "id": "b9ecbcff-95f5-42dc-8a76-72a6553017dd",
   "metadata": {},
   "outputs": [
    {
     "data": {
      "text/html": [
       "<table>\n",
       "<thead><tr><th></th><th scope=col>Sum Sq</th><th scope=col>Mean Sq</th><th scope=col>NumDF</th><th scope=col>DenDF</th><th scope=col>F value</th><th scope=col>Pr(&gt;F)</th></tr></thead>\n",
       "<tbody>\n",
       "\t<tr><th scope=row>how</th><td>27.86535    </td><td>27.865349   </td><td>1           </td><td>620.3552    </td><td>20.359297   </td><td>7.678677e-06</td></tr>\n",
       "\t<tr><th scope=row>list_length</th><td>10.25263    </td><td> 1.708772   </td><td>6           </td><td>750.9552    </td><td> 1.248482   </td><td>2.792583e-01</td></tr>\n",
       "\t<tr><th scope=row>how:list_length</th><td>10.76763    </td><td> 1.794604   </td><td>6           </td><td>620.3552    </td><td> 1.311194   </td><td>2.498442e-01</td></tr>\n",
       "</tbody>\n",
       "</table>\n"
      ],
      "text/latex": [
       "\\begin{tabular}{r|llllll}\n",
       "  & Sum Sq & Mean Sq & NumDF & DenDF & F value & Pr(>F)\\\\\n",
       "\\hline\n",
       "\thow & 27.86535     & 27.865349    & 1            & 620.3552     & 20.359297    & 7.678677e-06\\\\\n",
       "\tlist\\_length & 10.25263     &  1.708772    & 6            & 750.9552     &  1.248482    & 2.792583e-01\\\\\n",
       "\thow:list\\_length & 10.76763     &  1.794604    & 6            & 620.3552     &  1.311194    & 2.498442e-01\\\\\n",
       "\\end{tabular}\n"
      ],
      "text/markdown": [
       "\n",
       "| <!--/--> | Sum Sq | Mean Sq | NumDF | DenDF | F value | Pr(>F) |\n",
       "|---|---|---|---|---|---|---|\n",
       "| how | 27.86535     | 27.865349    | 1            | 620.3552     | 20.359297    | 7.678677e-06 |\n",
       "| list_length | 10.25263     |  1.708772    | 6            | 750.9552     |  1.248482    | 2.792583e-01 |\n",
       "| how:list_length | 10.76763     |  1.794604    | 6            | 620.3552     |  1.311194    | 2.498442e-01 |\n",
       "\n"
      ],
      "text/plain": [
       "                Sum Sq   Mean Sq   NumDF DenDF    F value   Pr(>F)      \n",
       "how             27.86535 27.865349 1     620.3552 20.359297 7.678677e-06\n",
       "list_length     10.25263  1.708772 6     750.9552  1.248482 2.792583e-01\n",
       "how:list_length 10.76763  1.794604 6     620.3552  1.311194 2.498442e-01"
      ]
     },
     "metadata": {},
     "output_type": "display_data"
    }
   ],
   "source": [
    "IRT_start <- read.csv(\"./Stat_CSVs/IRT_starts.csv\")\n",
    "IRT_start_stat <- within(IRT_start, {how <- factor(how) #dir\n",
    "  subject <- factor(subject) #subject\n",
    "  list_length <- factor(list_length)\n",
    "})\n",
    "\n",
    "IRT.aov <- lmer(IRT ~ how * list_length + (1|subject), data = IRT_start_stat)\n",
    "anova(IRT.aov)"
   ]
  },
  {
   "cell_type": "code",
   "execution_count": 6,
   "id": "23ec4987-6ad2-4d57-9447-e47414297c90",
   "metadata": {},
   "outputs": [
    {
     "data": {
      "text/html": [
       "<table>\n",
       "<thead><tr><th></th><th scope=col>Sum Sq</th><th scope=col>Mean Sq</th><th scope=col>NumDF</th><th scope=col>DenDF</th><th scope=col>F value</th><th scope=col>Pr(&gt;F)</th></tr></thead>\n",
       "<tbody>\n",
       "\t<tr><th scope=row>how</th><td>7.258183    </td><td>7.2581826   </td><td>1           </td><td>620.8491    </td><td>26.0824555  </td><td>4.357923e-07</td></tr>\n",
       "\t<tr><th scope=row>list_length</th><td>1.613162    </td><td>0.2688604   </td><td>6           </td><td>727.0310    </td><td> 0.9661563  </td><td>4.471432e-01</td></tr>\n",
       "\t<tr><th scope=row>how:list_length</th><td>1.550998    </td><td>0.2584997   </td><td>6           </td><td>620.8491    </td><td> 0.9289248  </td><td>4.734534e-01</td></tr>\n",
       "</tbody>\n",
       "</table>\n"
      ],
      "text/latex": [
       "\\begin{tabular}{r|llllll}\n",
       "  & Sum Sq & Mean Sq & NumDF & DenDF & F value & Pr(>F)\\\\\n",
       "\\hline\n",
       "\thow & 7.258183     & 7.2581826    & 1            & 620.8491     & 26.0824555   & 4.357923e-07\\\\\n",
       "\tlist\\_length & 1.613162     & 0.2688604    & 6            & 727.0310     &  0.9661563   & 4.471432e-01\\\\\n",
       "\thow:list\\_length & 1.550998     & 0.2584997    & 6            & 620.8491     &  0.9289248   & 4.734534e-01\\\\\n",
       "\\end{tabular}\n"
      ],
      "text/markdown": [
       "\n",
       "| <!--/--> | Sum Sq | Mean Sq | NumDF | DenDF | F value | Pr(>F) |\n",
       "|---|---|---|---|---|---|---|\n",
       "| how | 7.258183     | 7.2581826    | 1            | 620.8491     | 26.0824555   | 4.357923e-07 |\n",
       "| list_length | 1.613162     | 0.2688604    | 6            | 727.0310     |  0.9661563   | 4.471432e-01 |\n",
       "| how:list_length | 1.550998     | 0.2584997    | 6            | 620.8491     |  0.9289248   | 4.734534e-01 |\n",
       "\n"
      ],
      "text/plain": [
       "                Sum Sq   Mean Sq   NumDF DenDF    F value    Pr(>F)      \n",
       "how             7.258183 7.2581826 1     620.8491 26.0824555 4.357923e-07\n",
       "list_length     1.613162 0.2688604 6     727.0310  0.9661563 4.471432e-01\n",
       "how:list_length 1.550998 0.2584997 6     620.8491  0.9289248 4.734534e-01"
      ]
     },
     "metadata": {},
     "output_type": "display_data"
    }
   ],
   "source": [
    "IRT_times <- read.csv(\"./Stat_CSVs/IRT_transitions.csv\")\n",
    "IRT_times_stat <- within(IRT_times, {how <- factor(how) #dir\n",
    "  subject <- factor(subject) #subject\n",
    "  list_length <- factor(list_length)\n",
    "})\n",
    "\n",
    "IRT.aov <- lmer(IRT ~ how * list_length + (1|subject), data = IRT_times_stat)\n",
    "anova(IRT.aov)"
   ]
  },
  {
   "cell_type": "code",
   "execution_count": 9,
   "id": "c5ffc876-b49e-48e2-b907-3114e87ca16c",
   "metadata": {},
   "outputs": [
    {
     "data": {
      "text/plain": [
       "\n",
       "Error: subject\n",
       "           Df Sum Sq Mean Sq F value Pr(>F)\n",
       "Residuals 250   2237    8.95               \n",
       "\n",
       "Error: subject:how\n",
       "           Df Sum Sq Mean Sq F value Pr(>F)\n",
       "how         1   0.19  0.1897   0.183  0.669\n",
       "Residuals 250 259.06  1.0362               \n",
       "\n",
       "Error: subject:x_values\n",
       "           Df Sum Sq Mean Sq F value Pr(>F)    \n",
       "x_values    3  177.7   59.23   59.35 <2e-16 ***\n",
       "Residuals 750  748.4    1.00                   \n",
       "---\n",
       "Signif. codes:  0 ‘***’ 0.001 ‘**’ 0.01 ‘*’ 0.05 ‘.’ 0.1 ‘ ’ 1\n",
       "\n",
       "Error: subject:how:x_values\n",
       "              Df Sum Sq Mean Sq F value   Pr(>F)    \n",
       "how:x_values   3   40.1  13.376   22.31 7.57e-14 ***\n",
       "Residuals    750  449.6   0.599                     \n",
       "---\n",
       "Signif. codes:  0 ‘***’ 0.001 ‘**’ 0.01 ‘*’ 0.05 ‘.’ 0.1 ‘ ’ 1"
      ]
     },
     "metadata": {},
     "output_type": "display_data"
    }
   ],
   "source": [
    "irt <- read.csv('./Stat_CSVs/IRT.csv')\n",
    "\n",
    "irt <- within(irt, {how <- factor(how) #dir\n",
    "  subject <- factor(subject) #subject\n",
    "  x_values <- factor(outpos)\n",
    "})\n",
    "\n",
    "irt.aov <- aov(IRT ~ how * x_values + Error(subject/(how * x_values)), data = irt)\n",
    "summary(irt.aov)"
   ]
  },
  {
   "cell_type": "markdown",
   "id": "e84583b2-fbc9-4804-a3df-da4f853aea6e",
   "metadata": {
    "tags": []
   },
   "source": [
    "## Stopping"
   ]
  },
  {
   "cell_type": "code",
   "execution_count": 10,
   "id": "6efc5aeb-4071-455e-ad6e-c7dd9927d488",
   "metadata": {},
   "outputs": [
    {
     "name": "stderr",
     "output_type": "stream",
     "text": [
      "Warning message in aov(probability ~ how * correctness * outpos + Error(subject/(how * :\n",
      "“Error() model is singular”"
     ]
    },
    {
     "data": {
      "text/plain": [
       "\n",
       "Error: subject\n",
       "                        Df Sum Sq Mean Sq F value   Pr(>F)    \n",
       "how                      1   0.00   0.001   0.012  0.91307    \n",
       "correctness              1  13.42  13.420 203.970  < 2e-16 ***\n",
       "outpos                   8  79.77   9.971 151.551  < 2e-16 ***\n",
       "how:correctness          1   0.07   0.068   1.026  0.31155    \n",
       "how:outpos               8   0.76   0.095   1.449  0.17341    \n",
       "correctness:outpos       8   2.55   0.318   4.838 9.41e-06 ***\n",
       "how:correctness:outpos   8   1.48   0.185   2.817  0.00462 ** \n",
       "Residuals              489  32.17   0.066                     \n",
       "---\n",
       "Signif. codes:  0 ‘***’ 0.001 ‘**’ 0.01 ‘*’ 0.05 ‘.’ 0.1 ‘ ’ 1\n",
       "\n",
       "Error: subject:how\n",
       "                        Df Sum Sq Mean Sq F value Pr(>F)  \n",
       "how                      1  0.030 0.03017   0.807 0.3695  \n",
       "correctness              1  0.013 0.01272   0.340 0.5600  \n",
       "outpos                   8  0.601 0.07512   2.009 0.0437 *\n",
       "how:correctness          1  0.095 0.09537   2.550 0.1109  \n",
       "how:outpos               8  0.221 0.02761   0.738 0.6576  \n",
       "correctness:outpos       8  0.392 0.04905   1.312 0.2351  \n",
       "how:correctness:outpos   8  0.389 0.04867   1.302 0.2403  \n",
       "Residuals              490 18.323 0.03739                 \n",
       "---\n",
       "Signif. codes:  0 ‘***’ 0.001 ‘**’ 0.01 ‘*’ 0.05 ‘.’ 0.1 ‘ ’ 1\n",
       "\n",
       "Error: subject:correctness\n",
       "                        Df Sum Sq Mean Sq F value   Pr(>F)    \n",
       "correctness              1 13.793  13.793 200.692  < 2e-16 ***\n",
       "outpos                   8  5.895   0.737  10.723  7.3e-14 ***\n",
       "how:correctness          1  0.240   0.240   3.488 0.062464 .  \n",
       "how:outpos               8  0.666   0.083   1.211 0.290626    \n",
       "correctness:outpos       8  1.843   0.230   3.351 0.000961 ***\n",
       "how:correctness:outpos   8  0.227   0.028   0.412 0.913559    \n",
       "Residuals              458 31.476   0.069                     \n",
       "---\n",
       "Signif. codes:  0 ‘***’ 0.001 ‘**’ 0.01 ‘*’ 0.05 ‘.’ 0.1 ‘ ’ 1\n",
       "\n",
       "Error: subject:outpos\n",
       "                         Df Sum Sq Mean Sq F value  Pr(>F)    \n",
       "outpos                    8  600.8   75.11 599.243 < 2e-16 ***\n",
       "how:correctness           1    0.6    0.62   4.961  0.0260 *  \n",
       "how:outpos                8    1.7    0.21   1.680  0.0982 .  \n",
       "correctness:outpos        8    6.5    0.81   6.441 2.5e-08 ***\n",
       "how:correctness:outpos    8    1.1    0.14   1.115  0.3496    \n",
       "Residuals              2760  345.9    0.13                    \n",
       "---\n",
       "Signif. codes:  0 ‘***’ 0.001 ‘**’ 0.01 ‘*’ 0.05 ‘.’ 0.1 ‘ ’ 1\n",
       "\n",
       "Error: subject:how:correctness\n",
       "                        Df Sum Sq Mean Sq F value  Pr(>F)   \n",
       "how:correctness          1  0.895  0.8948  10.849 0.00108 **\n",
       "how:outpos               8  1.053  0.1316   1.595 0.12456   \n",
       "correctness:outpos       8  1.480  0.1850   2.243 0.02389 * \n",
       "how:correctness:outpos   8  0.934  0.1167   1.415 0.18847   \n",
       "Residuals              371 30.599  0.0825                   \n",
       "---\n",
       "Signif. codes:  0 ‘***’ 0.001 ‘**’ 0.01 ‘*’ 0.05 ‘.’ 0.1 ‘ ’ 1\n",
       "\n",
       "Error: subject:how:outpos\n",
       "                         Df Sum Sq Mean Sq F value  Pr(>F)   \n",
       "how:outpos                8   1.00 0.12478   2.285 0.01953 * \n",
       "correctness:outpos        8   1.12 0.13982   2.561 0.00884 **\n",
       "how:correctness:outpos    8   0.16 0.02047   0.375 0.93428   \n",
       "Residuals              2365 129.13 0.05460                   \n",
       "---\n",
       "Signif. codes:  0 ‘***’ 0.001 ‘**’ 0.01 ‘*’ 0.05 ‘.’ 0.1 ‘ ’ 1\n",
       "\n",
       "Error: subject:correctness:outpos\n",
       "                         Df Sum Sq Mean Sq F value   Pr(>F)    \n",
       "correctness:outpos        8   2.81  0.3518   5.390 1.02e-06 ***\n",
       "how:correctness:outpos    8   0.65  0.0812   1.244    0.269    \n",
       "Residuals              1736 113.32  0.0653                     \n",
       "---\n",
       "Signif. codes:  0 ‘***’ 0.001 ‘**’ 0.01 ‘*’ 0.05 ‘.’ 0.1 ‘ ’ 1\n",
       "\n",
       "Error: subject:how:correctness:outpos\n",
       "                        Df Sum Sq Mean Sq F value Pr(>F)  \n",
       "how:correctness:outpos   8    1.1 0.13743   2.417 0.0141 *\n",
       "Residuals              700   39.8 0.05686                 \n",
       "---\n",
       "Signif. codes:  0 ‘***’ 0.001 ‘**’ 0.01 ‘*’ 0.05 ‘.’ 0.1 ‘ ’ 1"
      ]
     },
     "metadata": {},
     "output_type": "display_data"
    }
   ],
   "source": [
    "stop <- read.csv('./Stat_CSVs/OPposneg.csv')\n",
    "\n",
    "stop <- within(stop, {how <- factor(how) #cue\n",
    "  correctness <- factor(cor_cat) #dir\n",
    "  subject <- factor(subject)\n",
    "  outpos <- factor(outpos)\n",
    "})\n",
    "\n",
    "stop.aov <- aov(probability ~ how * correctness * outpos + Error(subject/(how * correctness * outpos)), data = stop)\n",
    "summary(stop.aov)"
   ]
  },
  {
   "cell_type": "code",
   "execution_count": 5,
   "id": "2aea19c0-4098-4c29-82c6-a84213e1aaa6",
   "metadata": {},
   "outputs": [
    {
     "data": {
      "text/html": [
       "<table>\n",
       "<thead><tr><th></th><th scope=col>Sum Sq</th><th scope=col>Mean Sq</th><th scope=col>NumDF</th><th scope=col>DenDF</th><th scope=col>F value</th><th scope=col>Pr(&gt;F)</th></tr></thead>\n",
       "<tbody>\n",
       "\t<tr><th scope=row>how</th><td>  0.7229023 </td><td> 0.72290235 </td><td>1           </td><td>8900.517    </td><td>  8.5655376 </td><td>3.434525e-03</td></tr>\n",
       "\t<tr><th scope=row>correctness</th><td>  2.3361549 </td><td> 2.33615493 </td><td>1           </td><td>9046.645    </td><td> 27.6806724 </td><td>1.463612e-07</td></tr>\n",
       "\t<tr><th scope=row>outpos</th><td>526.9015463 </td><td>65.86269329 </td><td>8           </td><td>8944.187    </td><td>780.3950019 </td><td>0.000000e+00</td></tr>\n",
       "\t<tr><th scope=row>how:correctness</th><td>  0.1001969 </td><td> 0.10019694 </td><td>1           </td><td>8945.168    </td><td>  1.1872152 </td><td>2.759213e-01</td></tr>\n",
       "\t<tr><th scope=row>how:outpos</th><td>  1.4969660 </td><td> 0.18712075 </td><td>8           </td><td>8871.727    </td><td>  2.2171596 </td><td>2.338080e-02</td></tr>\n",
       "\t<tr><th scope=row>correctness:outpos</th><td>  5.4203114 </td><td> 0.67753893 </td><td>8           </td><td>8899.356    </td><td>  8.0280348 </td><td>7.554137e-11</td></tr>\n",
       "\t<tr><th scope=row>how:correctness:outpos</th><td>  0.6021263 </td><td> 0.07526579 </td><td>8           </td><td>8875.713    </td><td>  0.8918106 </td><td>5.222435e-01</td></tr>\n",
       "</tbody>\n",
       "</table>\n"
      ],
      "text/latex": [
       "\\begin{tabular}{r|llllll}\n",
       "  & Sum Sq & Mean Sq & NumDF & DenDF & F value & Pr(>F)\\\\\n",
       "\\hline\n",
       "\thow &   0.7229023  &  0.72290235  & 1            & 8900.517     &   8.5655376  & 3.434525e-03\\\\\n",
       "\tcorrectness &   2.3361549  &  2.33615493  & 1            & 9046.645     &  27.6806724  & 1.463612e-07\\\\\n",
       "\toutpos & 526.9015463  & 65.86269329  & 8            & 8944.187     & 780.3950019  & 0.000000e+00\\\\\n",
       "\thow:correctness &   0.1001969  &  0.10019694  & 1            & 8945.168     &   1.1872152  & 2.759213e-01\\\\\n",
       "\thow:outpos &   1.4969660  &  0.18712075  & 8            & 8871.727     &   2.2171596  & 2.338080e-02\\\\\n",
       "\tcorrectness:outpos &   5.4203114  &  0.67753893  & 8            & 8899.356     &   8.0280348  & 7.554137e-11\\\\\n",
       "\thow:correctness:outpos &   0.6021263  &  0.07526579  & 8            & 8875.713     &   0.8918106  & 5.222435e-01\\\\\n",
       "\\end{tabular}\n"
      ],
      "text/markdown": [
       "\n",
       "| <!--/--> | Sum Sq | Mean Sq | NumDF | DenDF | F value | Pr(>F) |\n",
       "|---|---|---|---|---|---|---|\n",
       "| how |   0.7229023  |  0.72290235  | 1            | 8900.517     |   8.5655376  | 3.434525e-03 |\n",
       "| correctness |   2.3361549  |  2.33615493  | 1            | 9046.645     |  27.6806724  | 1.463612e-07 |\n",
       "| outpos | 526.9015463  | 65.86269329  | 8            | 8944.187     | 780.3950019  | 0.000000e+00 |\n",
       "| how:correctness |   0.1001969  |  0.10019694  | 1            | 8945.168     |   1.1872152  | 2.759213e-01 |\n",
       "| how:outpos |   1.4969660  |  0.18712075  | 8            | 8871.727     |   2.2171596  | 2.338080e-02 |\n",
       "| correctness:outpos |   5.4203114  |  0.67753893  | 8            | 8899.356     |   8.0280348  | 7.554137e-11 |\n",
       "| how:correctness:outpos |   0.6021263  |  0.07526579  | 8            | 8875.713     |   0.8918106  | 5.222435e-01 |\n",
       "\n"
      ],
      "text/plain": [
       "                       Sum Sq      Mean Sq     NumDF DenDF    F value    \n",
       "how                      0.7229023  0.72290235 1     8900.517   8.5655376\n",
       "correctness              2.3361549  2.33615493 1     9046.645  27.6806724\n",
       "outpos                 526.9015463 65.86269329 8     8944.187 780.3950019\n",
       "how:correctness          0.1001969  0.10019694 1     8945.168   1.1872152\n",
       "how:outpos               1.4969660  0.18712075 8     8871.727   2.2171596\n",
       "correctness:outpos       5.4203114  0.67753893 8     8899.356   8.0280348\n",
       "how:correctness:outpos   0.6021263  0.07526579 8     8875.713   0.8918106\n",
       "                       Pr(>F)      \n",
       "how                    3.434525e-03\n",
       "correctness            1.463612e-07\n",
       "outpos                 0.000000e+00\n",
       "how:correctness        2.759213e-01\n",
       "how:outpos             2.338080e-02\n",
       "correctness:outpos     7.554137e-11\n",
       "how:correctness:outpos 5.222435e-01"
      ]
     },
     "metadata": {},
     "output_type": "display_data"
    }
   ],
   "source": [
    "stop <- read.csv('./Stat_CSVs/OPposneg.csv')\n",
    "\n",
    "stop <- within(stop, {how <- factor(how) #cue\n",
    "  correctness <- factor(cor_cat) #dir\n",
    "  subject <- factor(subject)\n",
    "  outpos <- factor(outpos)\n",
    "})\n",
    "\n",
    "scores.model = lmer(probability~ how * correctness * outpos + (1|subject), data = stop)\n",
    "anova(scores.model)\n"
   ]
  },
  {
   "cell_type": "markdown",
   "id": "5822ddfd-44ce-4d5e-9843-046c749d3378",
   "metadata": {
    "jp-MarkdownHeadingCollapsed": true,
    "tags": []
   },
   "source": [
    "## Empty Subjects"
   ]
  },
  {
   "cell_type": "markdown",
   "id": "9199cea8-4915-4c6a-9bbb-057dac127a04",
   "metadata": {
    "jp-MarkdownHeadingCollapsed": true,
    "tags": []
   },
   "source": [
    "### EOP Curves"
   ]
  },
  {
   "cell_type": "code",
   "execution_count": 7,
   "id": "589c574e-6954-4cb1-b20f-70ac1ac280fe",
   "metadata": {},
   "outputs": [
    {
     "data": {
      "text/plain": [
       "\n",
       "Error: subject\n",
       "           Df Sum Sq Mean Sq F value Pr(>F)\n",
       "Residuals 225  216.1  0.9604               \n",
       "\n",
       "Error: subject:how\n",
       "           Df Sum Sq Mean Sq F value Pr(>F)\n",
       "how         1   0.09  0.0932   0.228  0.634\n",
       "Residuals 225  92.07  0.4092               \n",
       "\n",
       "Error: subject:when\n",
       "           Df Sum Sq Mean Sq F value  Pr(>F)   \n",
       "when        1  0.751  0.7510   10.82 0.00117 **\n",
       "Residuals 225 15.616  0.0694                   \n",
       "---\n",
       "Signif. codes:  0 ‘***’ 0.001 ‘**’ 0.01 ‘*’ 0.05 ‘.’ 0.1 ‘ ’ 1\n",
       "\n",
       "Error: subject:x_values\n",
       "            Df Sum Sq Mean Sq F value Pr(>F)    \n",
       "x_values     8  236.0  29.504   382.3 <2e-16 ***\n",
       "Residuals 1800  138.9   0.077                   \n",
       "---\n",
       "Signif. codes:  0 ‘***’ 0.001 ‘**’ 0.01 ‘*’ 0.05 ‘.’ 0.1 ‘ ’ 1\n",
       "\n",
       "Error: subject:how:when\n",
       "           Df Sum Sq Mean Sq F value Pr(>F)\n",
       "how:when    1  0.098 0.09844   1.594  0.208\n",
       "Residuals 225 13.898 0.06177               \n",
       "\n",
       "Error: subject:how:x_values\n",
       "               Df Sum Sq Mean Sq F value   Pr(>F)    \n",
       "how:x_values    8   5.17  0.6462   10.26 4.04e-14 ***\n",
       "Residuals    1800 113.35  0.0630                     \n",
       "---\n",
       "Signif. codes:  0 ‘***’ 0.001 ‘**’ 0.01 ‘*’ 0.05 ‘.’ 0.1 ‘ ’ 1\n",
       "\n",
       "Error: subject:when:x_values\n",
       "                Df Sum Sq Mean Sq F value Pr(>F)    \n",
       "when:x_values    8   3.57  0.4467   14.04 <2e-16 ***\n",
       "Residuals     1800  57.28  0.0318                   \n",
       "---\n",
       "Signif. codes:  0 ‘***’ 0.001 ‘**’ 0.01 ‘*’ 0.05 ‘.’ 0.1 ‘ ’ 1\n",
       "\n",
       "Error: subject:how:when:x_values\n",
       "                    Df Sum Sq Mean Sq F value   Pr(>F)    \n",
       "how:when:x_values    8   0.79 0.09891   3.475 0.000549 ***\n",
       "Residuals         1800  51.23 0.02846                     \n",
       "---\n",
       "Signif. codes:  0 ‘***’ 0.001 ‘**’ 0.01 ‘*’ 0.05 ‘.’ 0.1 ‘ ’ 1"
      ]
     },
     "metadata": {},
     "output_type": "display_data"
    }
   ],
   "source": [
    "eosspc_empty <- read.csv('./Stat_CSVs/SPC_Stats_Empty')\n",
    "\n",
    "eosspc_empty <- within(eosspc_empty, {how <- factor(how) #cue\n",
    "  when <- factor(when) #dir\n",
    "  subject <- factor(subject)\n",
    "  x_values <- factor(x_values)\n",
    "})\n",
    "\n",
    "eosspc_empty.aov <- aov(probability ~ how * when * x_values + Error(subject/(how * when * x_values)), data = eosspc_empty)\n",
    "summary(eosspc_empty.aov)"
   ]
  },
  {
   "cell_type": "markdown",
   "id": "32f98dc9-ebc6-440e-80a8-0c079400550a",
   "metadata": {
    "jp-MarkdownHeadingCollapsed": true,
    "tags": []
   },
   "source": [
    "### Rec Rate Differences"
   ]
  },
  {
   "cell_type": "code",
   "execution_count": 3,
   "id": "75bf185a-744c-4a0a-8259-19b62acf593f",
   "metadata": {},
   "outputs": [
    {
     "data": {
      "text/plain": [
       "\n",
       "Error: subject\n",
       "                   Df Sum Sq Mean Sq F value Pr(>F)\n",
       "factor(condition)   2   0.09 0.04329   0.273  0.761\n",
       "Residuals         223  35.34 0.15848               \n",
       "\n",
       "Error: subject:how\n",
       "                       Df Sum Sq Mean Sq F value Pr(>F)\n",
       "how                     1  0.037 0.03694   0.614  0.434\n",
       "how:factor(condition)   2  0.022 0.01120   0.186  0.830\n",
       "Residuals             223 13.415 0.06016               \n",
       "\n",
       "Error: subject:list_length\n",
       "                               Df Sum Sq Mean Sq F value Pr(>F)    \n",
       "list_length                     2  2.881  1.4407  193.88 <2e-16 ***\n",
       "list_length:factor(condition)   4  0.672  0.1681   22.62 <2e-16 ***\n",
       "Residuals                     446  3.314  0.0074                   \n",
       "---\n",
       "Signif. codes:  0 ‘***’ 0.001 ‘**’ 0.01 ‘*’ 0.05 ‘.’ 0.1 ‘ ’ 1\n",
       "\n",
       "Error: subject:how:list_length\n",
       "                                   Df Sum Sq Mean Sq F value   Pr(>F)    \n",
       "how:list_length                     2 0.0787 0.03936   10.91 2.37e-05 ***\n",
       "how:list_length:factor(condition)   4 0.0201 0.00502    1.39    0.236    \n",
       "Residuals                         446 1.6089 0.00361                     \n",
       "---\n",
       "Signif. codes:  0 ‘***’ 0.001 ‘**’ 0.01 ‘*’ 0.05 ‘.’ 0.1 ‘ ’ 1"
      ]
     },
     "metadata": {},
     "output_type": "display_data"
    }
   ],
   "source": [
    "ROS_diff_empty <- read.csv(\"./Stat_CSVs/Differences_ROS_Empty\")\n",
    "aov_test_prob <- aov(probability ~ \n",
    "                       (how * list_length * factor(condition) + \n",
    "                          Error(subject / (how * list_length))) + \n",
    "                       factor(condition), \n",
    "                ROS_diff_empty)\n",
    "summary(aov_test_prob)"
   ]
  },
  {
   "cell_type": "markdown",
   "id": "9e163450-db64-4439-8049-ccae6a697d53",
   "metadata": {
    "tags": []
   },
   "source": [
    "### PFR Differences"
   ]
  },
  {
   "cell_type": "code",
   "execution_count": 4,
   "id": "35a2c20f-7ef4-4a89-b9dd-a53cdfb8a64c",
   "metadata": {},
   "outputs": [
    {
     "data": {
      "text/plain": [
       "\n",
       "Error: subject\n",
       "                   Df Sum Sq Mean Sq F value Pr(>F)\n",
       "factor(condition)   2   0.26  0.1295   0.366  0.694\n",
       "Residuals         223  78.96  0.3541               \n",
       "\n",
       "Error: subject:how\n",
       "                       Df Sum Sq Mean Sq F value   Pr(>F)    \n",
       "how                     1   3.36   3.359  17.398 4.34e-05 ***\n",
       "how:factor(condition)   2   0.07   0.034   0.178    0.837    \n",
       "Residuals             223  43.05   0.193                     \n",
       "---\n",
       "Signif. codes:  0 ‘***’ 0.001 ‘**’ 0.01 ‘*’ 0.05 ‘.’ 0.1 ‘ ’ 1\n",
       "\n",
       "Error: subject:list_length\n",
       "                               Df Sum Sq Mean Sq F value   Pr(>F)    \n",
       "list_length                     2  0.593 0.29641  18.902 1.32e-08 ***\n",
       "list_length:factor(condition)   4  0.066 0.01640   1.046    0.383    \n",
       "Residuals                     446  6.994 0.01568                     \n",
       "---\n",
       "Signif. codes:  0 ‘***’ 0.001 ‘**’ 0.01 ‘*’ 0.05 ‘.’ 0.1 ‘ ’ 1\n",
       "\n",
       "Error: subject:how:list_length\n",
       "                                   Df Sum Sq Mean Sq F value   Pr(>F)    \n",
       "how:list_length                     2  1.035  0.5175  32.468 6.85e-14 ***\n",
       "how:list_length:factor(condition)   4  0.046  0.0115   0.722    0.577    \n",
       "Residuals                         446  7.108  0.0159                     \n",
       "---\n",
       "Signif. codes:  0 ‘***’ 0.001 ‘**’ 0.01 ‘*’ 0.05 ‘.’ 0.1 ‘ ’ 1"
      ]
     },
     "metadata": {},
     "output_type": "display_data"
    }
   ],
   "source": [
    "PFR_diff_empty <- read.csv(\"./Stat_CSVs/Differences_PFR_Empty\")\n",
    "aov_test_prob <- aov(probability ~ \n",
    "                       (how * list_length * factor(condition) + \n",
    "                          Error(subject / (how * list_length))) + \n",
    "                       factor(condition), \n",
    "                PFR_diff_empty)\n",
    "summary(aov_test_prob)"
   ]
  },
  {
   "cell_type": "markdown",
   "id": "1793a008-c05c-42cb-a56b-b8b6d6e09cd0",
   "metadata": {},
   "source": [
    "### CRP Differences"
   ]
  },
  {
   "cell_type": "code",
   "execution_count": 6,
   "id": "298cf755-2b5c-4c3a-9de3-a303d17c5546",
   "metadata": {},
   "outputs": [
    {
     "data": {
      "text/plain": [
       "\n",
       "Error: subject\n",
       "                   Df Sum Sq Mean Sq F value Pr(>F)  \n",
       "factor(condition)   2  0.574  0.2868   3.506 0.0318 *\n",
       "Residuals         207 16.933  0.0818                 \n",
       "---\n",
       "Signif. codes:  0 ‘***’ 0.001 ‘**’ 0.01 ‘*’ 0.05 ‘.’ 0.1 ‘ ’ 1\n",
       "\n",
       "Error: subject:how\n",
       "                       Df Sum Sq Mean Sq F value   Pr(>F)    \n",
       "how                     1  2.019  2.0195  25.305 1.06e-06 ***\n",
       "how:factor(condition)   2  0.007  0.0033   0.042    0.959    \n",
       "Residuals             207 16.520  0.0798                     \n",
       "---\n",
       "Signif. codes:  0 ‘***’ 0.001 ‘**’ 0.01 ‘*’ 0.05 ‘.’ 0.1 ‘ ’ 1\n",
       "\n",
       "Error: subject:list_length\n",
       "                               Df Sum Sq Mean Sq F value   Pr(>F)    \n",
       "list_length                     2  0.308 0.15411   8.523 0.000236 ***\n",
       "list_length:factor(condition)   4  0.205 0.05135   2.840 0.024058 *  \n",
       "Residuals                     414  7.486 0.01808                     \n",
       "---\n",
       "Signif. codes:  0 ‘***’ 0.001 ‘**’ 0.01 ‘*’ 0.05 ‘.’ 0.1 ‘ ’ 1\n",
       "\n",
       "Error: subject:how:list_length\n",
       "                                   Df Sum Sq Mean Sq F value Pr(>F)  \n",
       "how:list_length                     2  0.021 0.01073   0.639 0.5285  \n",
       "how:list_length:factor(condition)   4  0.136 0.03397   2.022 0.0905 .\n",
       "Residuals                         414  6.955 0.01680                 \n",
       "---\n",
       "Signif. codes:  0 ‘***’ 0.001 ‘**’ 0.01 ‘*’ 0.05 ‘.’ 0.1 ‘ ’ 1"
      ]
     },
     "metadata": {},
     "output_type": "display_data"
    }
   ],
   "source": [
    "CRP_diff_empty <- read.csv(\"./Stat_CSVs/Differences_CRP_Empty\")\n",
    "aov_test_prob <- aov(probability ~ \n",
    "                       (how * list_length * factor(condition) + \n",
    "                          Error(subject / (how * list_length))) + \n",
    "                       factor(condition), \n",
    "                CRP_diff_empty)\n",
    "summary(aov_test_prob)"
   ]
  }
 ],
 "metadata": {
  "kernelspec": {
   "display_name": "R",
   "language": "R",
   "name": "ir"
  },
  "language_info": {
   "codemirror_mode": "r",
   "file_extension": ".r",
   "mimetype": "text/x-r-source",
   "name": "R",
   "pygments_lexer": "r",
   "version": "3.6.1"
  }
 },
 "nbformat": 4,
 "nbformat_minor": 5
}
