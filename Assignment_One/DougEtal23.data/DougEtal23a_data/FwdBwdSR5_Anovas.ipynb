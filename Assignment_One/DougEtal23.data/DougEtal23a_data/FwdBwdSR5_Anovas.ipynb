{
 "cells": [
  {
   "cell_type": "markdown",
   "id": "41da2286-0a61-4c8d-b641-121844026d57",
   "metadata": {},
   "source": [
    "# Multivariate Statistical Tests"
   ]
  },
  {
   "cell_type": "markdown",
   "id": "8a6680e6-55c6-4b22-b885-84944c26a924",
   "metadata": {
    "tags": []
   },
   "source": [
    "## Recall Initiation"
   ]
  },
  {
   "cell_type": "code",
   "execution_count": 1,
   "id": "1d2ddf3c-cd87-4270-b9eb-903f7694a331",
   "metadata": {},
   "outputs": [
    {
     "data": {
      "text/plain": [
       "\n",
       "Error: subject\n",
       "           Df Sum Sq Mean Sq F value Pr(>F)\n",
       "Residuals 549  13.22 0.02408               \n",
       "\n",
       "Error: subject:how\n",
       "           Df Sum Sq   Mean Sq F value Pr(>F)\n",
       "how         1 0.0006 0.0005755   0.372  0.542\n",
       "Residuals 549 0.8491 0.0015467               \n",
       "\n",
       "Error: subject:x_values\n",
       "            Df Sum Sq Mean Sq F value Pr(>F)    \n",
       "x_values     8  201.4  25.176   714.1 <2e-16 ***\n",
       "Residuals 4392  154.8   0.035                   \n",
       "---\n",
       "Signif. codes:  0 ‘***’ 0.001 ‘**’ 0.01 ‘*’ 0.05 ‘.’ 0.1 ‘ ’ 1\n",
       "\n",
       "Error: subject:how:x_values\n",
       "               Df Sum Sq Mean Sq F value   Pr(>F)    \n",
       "how:x_values    8   1.05 0.13139   7.901 1.31e-10 ***\n",
       "Residuals    4392  73.04 0.01663                     \n",
       "---\n",
       "Signif. codes:  0 ‘***’ 0.001 ‘**’ 0.01 ‘*’ 0.05 ‘.’ 0.1 ‘ ’ 1"
      ]
     },
     "metadata": {},
     "output_type": "display_data"
    }
   ],
   "source": [
    "pfr <- read.csv('./../graphsE5/Stat_CSVs/PFR_Stats')\n",
    "\n",
    "pfr <- within(pfr, {how <- factor(how) #dir\n",
    "  subject <- factor(subject) #subject\n",
    "  x_values <- factor(x_values)\n",
    "})\n",
    "\n",
    "pfr.aov <- aov(probability ~ how * x_values + Error(subject/(how * x_values)), data = pfr)\n",
    "summary(pfr.aov)"
   ]
  },
  {
   "cell_type": "markdown",
   "id": "bffc225c-ceb2-4b9c-b295-ee935967287d",
   "metadata": {
    "tags": []
   },
   "source": [
    "## Serial Recall Probability"
   ]
  },
  {
   "cell_type": "code",
   "execution_count": 2,
   "id": "8fdabc01-0765-443d-a9ba-a5d8951aa980",
   "metadata": {},
   "outputs": [
    {
     "data": {
      "text/plain": [
       "\n",
       "Error: subject\n",
       "           Df Sum Sq Mean Sq F value Pr(>F)\n",
       "Residuals 551  499.2  0.9059               \n",
       "\n",
       "Error: subject:how\n",
       "           Df Sum Sq Mean Sq F value Pr(>F)\n",
       "how         1   0.16  0.1578   1.424  0.233\n",
       "Residuals 551  61.03  0.1108               \n",
       "\n",
       "Error: subject:x_values\n",
       "            Df Sum Sq Mean Sq F value Pr(>F)    \n",
       "x_values     8  86.02  10.753     349 <2e-16 ***\n",
       "Residuals 4408 135.81   0.031                   \n",
       "---\n",
       "Signif. codes:  0 ‘***’ 0.001 ‘**’ 0.01 ‘*’ 0.05 ‘.’ 0.1 ‘ ’ 1\n",
       "\n",
       "Error: subject:how:x_values\n",
       "               Df Sum Sq Mean Sq F value Pr(>F)    \n",
       "how:x_values    8   4.00  0.5000   23.06 <2e-16 ***\n",
       "Residuals    4408  95.58  0.0217                   \n",
       "---\n",
       "Signif. codes:  0 ‘***’ 0.001 ‘**’ 0.01 ‘*’ 0.05 ‘.’ 0.1 ‘ ’ 1"
      ]
     },
     "metadata": {},
     "output_type": "display_data"
    }
   ],
   "source": [
    "eosspc <- read.csv('./../graphsE5/Stat_CSVs/SPC_Stats')\n",
    "\n",
    "eosspc <- within(eosspc, {how <- factor(how) #dir\n",
    "  subject <- factor(subject)\n",
    "  x_values <- factor(x_values)\n",
    "})\n",
    "\n",
    "eosspc.aov <- aov(probability ~ how * x_values + Error(subject/(how * x_values)), data = eosspc)\n",
    "summary(eosspc.aov)"
   ]
  },
  {
   "cell_type": "markdown",
   "id": "5acce27d-327e-4591-be9b-52a6d306eb7f",
   "metadata": {
    "tags": []
   },
   "source": [
    "## List Length Differences"
   ]
  },
  {
   "cell_type": "markdown",
   "id": "19af8bef-4a7d-4686-b8f3-7611e4709c1e",
   "metadata": {
    "jp-MarkdownHeadingCollapsed": true,
    "tags": []
   },
   "source": [
    "### Recall Initiation"
   ]
  },
  {
   "cell_type": "code",
   "execution_count": 3,
   "id": "0ee4f536-c88c-45a5-ac72-0111b68d706a",
   "metadata": {},
   "outputs": [
    {
     "data": {
      "text/plain": [
       "\n",
       "Error: subject\n",
       "                   Df Sum Sq Mean Sq F value Pr(>F)\n",
       "factor(condition)   2    0.8  0.4018   0.634  0.531\n",
       "Residuals         545  345.4  0.6337               \n",
       "\n",
       "Error: subject:how\n",
       "                       Df Sum Sq Mean Sq F value   Pr(>F)    \n",
       "how                     1   2.26  2.2577  15.023 0.000119 ***\n",
       "how:factor(condition)   2   0.20  0.1002   0.667 0.513851    \n",
       "Residuals             545  81.90  0.1503                     \n",
       "---\n",
       "Signif. codes:  0 ‘***’ 0.001 ‘**’ 0.01 ‘*’ 0.05 ‘.’ 0.1 ‘ ’ 1\n",
       "\n",
       "Error: subject:list_length\n",
       "                                Df Sum Sq Mean Sq F value   Pr(>F)    \n",
       "list_length                      2  0.459 0.22967  14.077 9.21e-07 ***\n",
       "list_length:factor(condition)    4  0.104 0.02604   1.596    0.173    \n",
       "Residuals                     1090 17.784 0.01632                     \n",
       "---\n",
       "Signif. codes:  0 ‘***’ 0.001 ‘**’ 0.01 ‘*’ 0.05 ‘.’ 0.1 ‘ ’ 1\n",
       "\n",
       "Error: subject:how:list_length\n",
       "                                    Df Sum Sq  Mean Sq F value Pr(>F)\n",
       "how:list_length                      2  0.004 0.002042   0.121  0.886\n",
       "how:list_length:factor(condition)    4  0.031 0.007737   0.457  0.767\n",
       "Residuals                         1090 18.452 0.016928               "
      ]
     },
     "metadata": {},
     "output_type": "display_data"
    }
   ],
   "source": [
    "PFR_diff <- read.csv(\"./../graphsE5/Stat_CSVs/Differences_PFR\")\n",
    "aov_test_prob <- aov(probability ~ \n",
    "                       (how * list_length * factor(condition) + \n",
    "                          Error(subject / (how * list_length))) + \n",
    "                       factor(condition), \n",
    "                PFR_diff)\n",
    "summary(aov_test_prob)"
   ]
  },
  {
   "cell_type": "markdown",
   "id": "a0252d7d-544b-4b2f-a9be-f95c47ab3626",
   "metadata": {
    "jp-MarkdownHeadingCollapsed": true,
    "tags": []
   },
   "source": [
    "### Overall Recall Probability"
   ]
  },
  {
   "cell_type": "code",
   "execution_count": 4,
   "id": "7c3db06e-78e4-4e15-b949-1956b6969e78",
   "metadata": {},
   "outputs": [
    {
     "data": {
      "text/plain": [
       "\n",
       "Error: subject\n",
       "                   Df Sum Sq Mean Sq F value Pr(>F)\n",
       "factor(condition)   2   0.35  0.1765   0.604  0.547\n",
       "Residuals         549 160.39  0.2922               \n",
       "\n",
       "Error: subject:how\n",
       "                       Df Sum Sq Mean Sq F value Pr(>F)\n",
       "how                     1  0.035 0.03548   1.059  0.304\n",
       "how:factor(condition)   2  0.034 0.01695   0.506  0.603\n",
       "Residuals             549 18.397 0.03351               \n",
       "\n",
       "Error: subject:list_length\n",
       "                                Df Sum Sq Mean Sq F value   Pr(>F)    \n",
       "list_length                      2  1.572  0.7860  186.35  < 2e-16 ***\n",
       "list_length:factor(condition)    4  0.313  0.0782   18.54 9.28e-15 ***\n",
       "Residuals                     1098  4.631  0.0042                     \n",
       "---\n",
       "Signif. codes:  0 ‘***’ 0.001 ‘**’ 0.01 ‘*’ 0.05 ‘.’ 0.1 ‘ ’ 1\n",
       "\n",
       "Error: subject:how:list_length\n",
       "                                    Df Sum Sq  Mean Sq F value Pr(>F)  \n",
       "how:list_length                      2 0.0160 0.007991   2.788  0.062 .\n",
       "how:list_length:factor(condition)    4 0.0315 0.007886   2.751  0.027 *\n",
       "Residuals                         1098 3.1469 0.002866                 \n",
       "---\n",
       "Signif. codes:  0 ‘***’ 0.001 ‘**’ 0.01 ‘*’ 0.05 ‘.’ 0.1 ‘ ’ 1"
      ]
     },
     "metadata": {},
     "output_type": "display_data"
    }
   ],
   "source": [
    "ROS_diff <- read.csv(\"./../graphsE5/Stat_CSVs/Differences_ROS\")\n",
    "aov_test_prob <- aov(probability ~ \n",
    "                       (how * list_length * factor(condition) + \n",
    "                          Error(subject / (how * list_length))) + \n",
    "                       factor(condition), \n",
    "                ROS_diff)\n",
    "summary(aov_test_prob)"
   ]
  },
  {
   "cell_type": "markdown",
   "id": "2839e30b-ae41-494d-85d2-319fe8d16e39",
   "metadata": {
    "tags": []
   },
   "source": [
    "### Fill-in Transitions"
   ]
  },
  {
   "cell_type": "code",
   "execution_count": 5,
   "id": "10a903b5-562b-41b1-ba56-f41b2d936c41",
   "metadata": {},
   "outputs": [
    {
     "data": {
      "text/plain": [
       "\n",
       "Error: subject\n",
       "                   Df Sum Sq Mean Sq F value Pr(>F)\n",
       "factor(condition)   2   0.16 0.08174   0.937  0.393\n",
       "Residuals         436  38.03 0.08722               \n",
       "\n",
       "Error: subject:how\n",
       "                       Df Sum Sq Mean Sq F value   Pr(>F)    \n",
       "how                     1  0.837  0.8370  12.289 0.000503 ***\n",
       "how:factor(condition)   2  0.031  0.0155   0.228 0.796232    \n",
       "Residuals             436 29.696  0.0681                     \n",
       "---\n",
       "Signif. codes:  0 ‘***’ 0.001 ‘**’ 0.01 ‘*’ 0.05 ‘.’ 0.1 ‘ ’ 1\n",
       "\n",
       "Error: subject:list_length\n",
       "                               Df Sum Sq Mean Sq F value Pr(>F)  \n",
       "list_length                     2  0.074 0.03693   3.241 0.0396 *\n",
       "list_length:factor(condition)   4  0.011 0.00269   0.236 0.9181  \n",
       "Residuals                     872  9.937 0.01140                 \n",
       "---\n",
       "Signif. codes:  0 ‘***’ 0.001 ‘**’ 0.01 ‘*’ 0.05 ‘.’ 0.1 ‘ ’ 1\n",
       "\n",
       "Error: subject:how:list_length\n",
       "                                   Df Sum Sq  Mean Sq F value Pr(>F)\n",
       "how:list_length                     2  0.002 0.000926   0.083  0.920\n",
       "how:list_length:factor(condition)   4  0.036 0.008983   0.804  0.523\n",
       "Residuals                         872  9.741 0.011170               "
      ]
     },
     "metadata": {},
     "output_type": "display_data"
    }
   ],
   "source": [
    "CRP_diff <- read.csv(\"./../graphsE5/Stat_CSVs/Differences_CRP\")\n",
    "aov_test_prob <- aov(probability ~ \n",
    "                       (how * list_length * factor(condition) + \n",
    "                          Error(subject / (how * list_length))) + \n",
    "                       factor(condition), \n",
    "                CRP_diff)\n",
    "summary(aov_test_prob)"
   ]
  },
  {
   "cell_type": "markdown",
   "id": "858ed7c6-a4a8-4974-a312-105b5924e17d",
   "metadata": {},
   "source": [
    "## IRTs"
   ]
  },
  {
   "cell_type": "code",
   "execution_count": 4,
   "id": "d1624ab9-90d8-40f6-9c24-e6ad8bf62962",
   "metadata": {},
   "outputs": [
    {
     "data": {
      "text/html": [
       "<table>\n",
       "<thead><tr><th></th><th scope=col>Sum Sq</th><th scope=col>Mean Sq</th><th scope=col>NumDF</th><th scope=col>DenDF</th><th scope=col>F value</th><th scope=col>Pr(&gt;F)</th></tr></thead>\n",
       "<tbody>\n",
       "\t<tr><th scope=row>how</th><td>23.517067   </td><td>23.517067   </td><td>1           </td><td>550.3404    </td><td>12.1334871  </td><td>0.0005346421</td></tr>\n",
       "\t<tr><th scope=row>list_length</th><td>10.440810   </td><td> 1.740135   </td><td>6           </td><td>643.9549    </td><td> 0.8978120  </td><td>0.4959424777</td></tr>\n",
       "\t<tr><th scope=row>how:list_length</th><td> 9.969488   </td><td> 1.661581   </td><td>6           </td><td>550.3404    </td><td> 0.8572828  </td><td>0.5261918253</td></tr>\n",
       "</tbody>\n",
       "</table>\n"
      ],
      "text/latex": [
       "\\begin{tabular}{r|llllll}\n",
       "  & Sum Sq & Mean Sq & NumDF & DenDF & F value & Pr(>F)\\\\\n",
       "\\hline\n",
       "\thow & 23.517067    & 23.517067    & 1            & 550.3404     & 12.1334871   & 0.0005346421\\\\\n",
       "\tlist\\_length & 10.440810    &  1.740135    & 6            & 643.9549     &  0.8978120   & 0.4959424777\\\\\n",
       "\thow:list\\_length &  9.969488    &  1.661581    & 6            & 550.3404     &  0.8572828   & 0.5261918253\\\\\n",
       "\\end{tabular}\n"
      ],
      "text/markdown": [
       "\n",
       "| <!--/--> | Sum Sq | Mean Sq | NumDF | DenDF | F value | Pr(>F) |\n",
       "|---|---|---|---|---|---|---|\n",
       "| how | 23.517067    | 23.517067    | 1            | 550.3404     | 12.1334871   | 0.0005346421 |\n",
       "| list_length | 10.440810    |  1.740135    | 6            | 643.9549     |  0.8978120   | 0.4959424777 |\n",
       "| how:list_length |  9.969488    |  1.661581    | 6            | 550.3404     |  0.8572828   | 0.5261918253 |\n",
       "\n"
      ],
      "text/plain": [
       "                Sum Sq    Mean Sq   NumDF DenDF    F value    Pr(>F)      \n",
       "how             23.517067 23.517067 1     550.3404 12.1334871 0.0005346421\n",
       "list_length     10.440810  1.740135 6     643.9549  0.8978120 0.4959424777\n",
       "how:list_length  9.969488  1.661581 6     550.3404  0.8572828 0.5261918253"
      ]
     },
     "metadata": {},
     "output_type": "display_data"
    }
   ],
   "source": [
    "IRT_start <- read.csv(\"./../graphsE5/Stat_CSVs/IRT_starts.csv\")\n",
    "IRT_start_stat <- within(IRT_start, {how <- factor(how) #dir\n",
    "  subject <- factor(subject) #subject\n",
    "  list_length <- factor(list_length)\n",
    "})\n",
    "\n",
    "IRT.aov <- lmer(IRT ~ how * list_length + (1|subject), data = IRT_start_stat)\n",
    "anova(IRT.aov)"
   ]
  },
  {
   "cell_type": "code",
   "execution_count": 5,
   "id": "f4ba9701-b26f-4fb5-bddf-c8dc21a90bc1",
   "metadata": {},
   "outputs": [
    {
     "data": {
      "text/html": [
       "<table>\n",
       "<thead><tr><th></th><th scope=col>Sum Sq</th><th scope=col>Mean Sq</th><th scope=col>NumDF</th><th scope=col>DenDF</th><th scope=col>F value</th><th scope=col>Pr(&gt;F)</th></tr></thead>\n",
       "<tbody>\n",
       "\t<tr><th scope=row>how</th><td>1.223909  </td><td>1.2239089 </td><td>1         </td><td>551.5091  </td><td>3.7522840 </td><td>0.05324572</td></tr>\n",
       "\t<tr><th scope=row>list_length</th><td>1.031796  </td><td>0.1719661 </td><td>6         </td><td>628.2073  </td><td>0.5272169 </td><td>0.78782013</td></tr>\n",
       "\t<tr><th scope=row>how:list_length</th><td>5.157023  </td><td>0.8595038 </td><td>6         </td><td>551.5091  </td><td>2.6350837 </td><td>0.01579510</td></tr>\n",
       "</tbody>\n",
       "</table>\n"
      ],
      "text/latex": [
       "\\begin{tabular}{r|llllll}\n",
       "  & Sum Sq & Mean Sq & NumDF & DenDF & F value & Pr(>F)\\\\\n",
       "\\hline\n",
       "\thow & 1.223909   & 1.2239089  & 1          & 551.5091   & 3.7522840  & 0.05324572\\\\\n",
       "\tlist\\_length & 1.031796   & 0.1719661  & 6          & 628.2073   & 0.5272169  & 0.78782013\\\\\n",
       "\thow:list\\_length & 5.157023   & 0.8595038  & 6          & 551.5091   & 2.6350837  & 0.01579510\\\\\n",
       "\\end{tabular}\n"
      ],
      "text/markdown": [
       "\n",
       "| <!--/--> | Sum Sq | Mean Sq | NumDF | DenDF | F value | Pr(>F) |\n",
       "|---|---|---|---|---|---|---|\n",
       "| how | 1.223909   | 1.2239089  | 1          | 551.5091   | 3.7522840  | 0.05324572 |\n",
       "| list_length | 1.031796   | 0.1719661  | 6          | 628.2073   | 0.5272169  | 0.78782013 |\n",
       "| how:list_length | 5.157023   | 0.8595038  | 6          | 551.5091   | 2.6350837  | 0.01579510 |\n",
       "\n"
      ],
      "text/plain": [
       "                Sum Sq   Mean Sq   NumDF DenDF    F value   Pr(>F)    \n",
       "how             1.223909 1.2239089 1     551.5091 3.7522840 0.05324572\n",
       "list_length     1.031796 0.1719661 6     628.2073 0.5272169 0.78782013\n",
       "how:list_length 5.157023 0.8595038 6     551.5091 2.6350837 0.01579510"
      ]
     },
     "metadata": {},
     "output_type": "display_data"
    }
   ],
   "source": [
    "IRT_times <- read.csv(\"./../graphsE5/Stat_CSVs/IRT_transitions.csv\")\n",
    "IRT_times_stat <- within(IRT_times, {how <- factor(how) #dir\n",
    "  subject <- factor(subject) #subject\n",
    "  list_length <- factor(list_length)\n",
    "})\n",
    "\n",
    "IRT.aov <- lmer(IRT ~ how * list_length + (1|subject), data = IRT_times_stat)\n",
    "anova(IRT.aov)"
   ]
  },
  {
   "cell_type": "code",
   "execution_count": 6,
   "id": "9dbe7651-8a17-41c2-afd9-9d434a7b5ad7",
   "metadata": {},
   "outputs": [
    {
     "data": {
      "text/plain": [
       "\n",
       "Error: subject\n",
       "           Df Sum Sq Mean Sq F value Pr(>F)\n",
       "Residuals 179   1305   7.292               \n",
       "\n",
       "Error: subject:how\n",
       "           Df Sum Sq Mean Sq F value Pr(>F)\n",
       "how         1   0.01  0.0064   0.007  0.936\n",
       "Residuals 179 174.76  0.9763               \n",
       "\n",
       "Error: subject:x_values\n",
       "           Df Sum Sq Mean Sq F value Pr(>F)    \n",
       "x_values    3  325.6  108.53   98.15 <2e-16 ***\n",
       "Residuals 537  593.8    1.11                   \n",
       "---\n",
       "Signif. codes:  0 ‘***’ 0.001 ‘**’ 0.01 ‘*’ 0.05 ‘.’ 0.1 ‘ ’ 1\n",
       "\n",
       "Error: subject:how:x_values\n",
       "              Df Sum Sq Mean Sq F value Pr(>F)  \n",
       "how:x_values   3    6.8  2.2658   2.493 0.0593 .\n",
       "Residuals    537  488.1  0.9089                 \n",
       "---\n",
       "Signif. codes:  0 ‘***’ 0.001 ‘**’ 0.01 ‘*’ 0.05 ‘.’ 0.1 ‘ ’ 1"
      ]
     },
     "metadata": {},
     "output_type": "display_data"
    }
   ],
   "source": [
    "irt <- read.csv('./../graphsE5/Stat_CSVs/IRT.csv')\n",
    "\n",
    "irt <- within(irt, {how <- factor(how) #dir\n",
    "  subject <- factor(subject) #subject\n",
    "  x_values <- factor(outpos)\n",
    "})\n",
    "\n",
    "irt.aov <- aov(IRT ~ how * x_values + Error(subject/(how * x_values)), data = irt)\n",
    "summary(irt.aov)"
   ]
  },
  {
   "cell_type": "code",
   "execution_count": 1,
   "id": "9b03da49-b50a-4788-8683-9999292c5381",
   "metadata": {},
   "outputs": [
    {
     "name": "stderr",
     "output_type": "stream",
     "text": [
      "Loading required package: Matrix\n",
      "Registered S3 methods overwritten by 'ggplot2':\n",
      "  method         from \n",
      "  [.quosures     rlang\n",
      "  c.quosures     rlang\n",
      "  print.quosures rlang\n",
      "\n",
      "Attaching package: ‘lmerTest’\n",
      "\n",
      "The following object is masked from ‘package:lme4’:\n",
      "\n",
      "    lmer\n",
      "\n",
      "The following object is masked from ‘package:stats’:\n",
      "\n",
      "    step\n",
      "\n"
     ]
    }
   ],
   "source": [
    "library(lme4)\n",
    "library(lmerTest)"
   ]
  },
  {
   "cell_type": "code",
   "execution_count": 8,
   "id": "82d1f5f5-1143-47a9-8323-f5209e2d4a4b",
   "metadata": {},
   "outputs": [
    {
     "data": {
      "text/html": [
       "<table>\n",
       "<thead><tr><th></th><th scope=col>Sum Sq</th><th scope=col>Mean Sq</th><th scope=col>NumDF</th><th scope=col>DenDF</th><th scope=col>F value</th><th scope=col>Pr(&gt;F)</th></tr></thead>\n",
       "<tbody>\n",
       "\t<tr><th scope=row>how</th><td>2.261576e-01</td><td> 0.226157641</td><td>1           </td><td>8396.407    </td><td>  2.93120612</td><td>8.691949e-02</td></tr>\n",
       "\t<tr><th scope=row>correctness</th><td>3.050582e+00</td><td> 3.050582114</td><td>1           </td><td>8533.478    </td><td> 39.53828360</td><td>3.374896e-10</td></tr>\n",
       "\t<tr><th scope=row>outpos</th><td>4.792647e+02</td><td>59.908084055</td><td>8           </td><td>8447.989    </td><td>776.46256648</td><td>0.000000e+00</td></tr>\n",
       "\t<tr><th scope=row>how:correctness</th><td>7.577272e-03</td><td> 0.007577272</td><td>1           </td><td>8417.692    </td><td>  0.09820825</td><td>7.539983e-01</td></tr>\n",
       "\t<tr><th scope=row>how:outpos</th><td>1.231264e+00</td><td> 0.153907950</td><td>8           </td><td>8382.941    </td><td>  1.99478524</td><td>4.311860e-02</td></tr>\n",
       "\t<tr><th scope=row>correctness:outpos</th><td>1.205411e+01</td><td> 1.506763298</td><td>8           </td><td>8424.753    </td><td> 19.52900540</td><td>1.900625e-29</td></tr>\n",
       "\t<tr><th scope=row>how:correctness:outpos</th><td>9.699686e-01</td><td> 0.121246076</td><td>8           </td><td>8384.162    </td><td>  1.57145802</td><td>1.276517e-01</td></tr>\n",
       "</tbody>\n",
       "</table>\n"
      ],
      "text/latex": [
       "\\begin{tabular}{r|llllll}\n",
       "  & Sum Sq & Mean Sq & NumDF & DenDF & F value & Pr(>F)\\\\\n",
       "\\hline\n",
       "\thow & 2.261576e-01 &  0.226157641 & 1            & 8396.407     &   2.93120612 & 8.691949e-02\\\\\n",
       "\tcorrectness & 3.050582e+00 &  3.050582114 & 1            & 8533.478     &  39.53828360 & 3.374896e-10\\\\\n",
       "\toutpos & 4.792647e+02 & 59.908084055 & 8            & 8447.989     & 776.46256648 & 0.000000e+00\\\\\n",
       "\thow:correctness & 7.577272e-03 &  0.007577272 & 1            & 8417.692     &   0.09820825 & 7.539983e-01\\\\\n",
       "\thow:outpos & 1.231264e+00 &  0.153907950 & 8            & 8382.941     &   1.99478524 & 4.311860e-02\\\\\n",
       "\tcorrectness:outpos & 1.205411e+01 &  1.506763298 & 8            & 8424.753     &  19.52900540 & 1.900625e-29\\\\\n",
       "\thow:correctness:outpos & 9.699686e-01 &  0.121246076 & 8            & 8384.162     &   1.57145802 & 1.276517e-01\\\\\n",
       "\\end{tabular}\n"
      ],
      "text/markdown": [
       "\n",
       "| <!--/--> | Sum Sq | Mean Sq | NumDF | DenDF | F value | Pr(>F) |\n",
       "|---|---|---|---|---|---|---|\n",
       "| how | 2.261576e-01 |  0.226157641 | 1            | 8396.407     |   2.93120612 | 8.691949e-02 |\n",
       "| correctness | 3.050582e+00 |  3.050582114 | 1            | 8533.478     |  39.53828360 | 3.374896e-10 |\n",
       "| outpos | 4.792647e+02 | 59.908084055 | 8            | 8447.989     | 776.46256648 | 0.000000e+00 |\n",
       "| how:correctness | 7.577272e-03 |  0.007577272 | 1            | 8417.692     |   0.09820825 | 7.539983e-01 |\n",
       "| how:outpos | 1.231264e+00 |  0.153907950 | 8            | 8382.941     |   1.99478524 | 4.311860e-02 |\n",
       "| correctness:outpos | 1.205411e+01 |  1.506763298 | 8            | 8424.753     |  19.52900540 | 1.900625e-29 |\n",
       "| how:correctness:outpos | 9.699686e-01 |  0.121246076 | 8            | 8384.162     |   1.57145802 | 1.276517e-01 |\n",
       "\n"
      ],
      "text/plain": [
       "                       Sum Sq       Mean Sq      NumDF DenDF    F value     \n",
       "how                    2.261576e-01  0.226157641 1     8396.407   2.93120612\n",
       "correctness            3.050582e+00  3.050582114 1     8533.478  39.53828360\n",
       "outpos                 4.792647e+02 59.908084055 8     8447.989 776.46256648\n",
       "how:correctness        7.577272e-03  0.007577272 1     8417.692   0.09820825\n",
       "how:outpos             1.231264e+00  0.153907950 8     8382.941   1.99478524\n",
       "correctness:outpos     1.205411e+01  1.506763298 8     8424.753  19.52900540\n",
       "how:correctness:outpos 9.699686e-01  0.121246076 8     8384.162   1.57145802\n",
       "                       Pr(>F)      \n",
       "how                    8.691949e-02\n",
       "correctness            3.374896e-10\n",
       "outpos                 0.000000e+00\n",
       "how:correctness        7.539983e-01\n",
       "how:outpos             4.311860e-02\n",
       "correctness:outpos     1.900625e-29\n",
       "how:correctness:outpos 1.276517e-01"
      ]
     },
     "metadata": {},
     "output_type": "display_data"
    }
   ],
   "source": [
    "stop <- read.csv('./../graphsE5/Stat_CSVs/OPposneg.csv')\n",
    "\n",
    "stop <- within(stop, {how <- factor(how) #cue\n",
    "  correctness <- factor(cor_cat) #dir\n",
    "  subject <- factor(subject)\n",
    "  outpos <- factor(outpos)\n",
    "})\n",
    "\n",
    "scores = lmer(probability~ how * correctness * outpos + (1|subject), data = stop)\n",
    "anova(scores)\n"
   ]
  }
 ],
 "metadata": {
  "kernelspec": {
   "display_name": "R",
   "language": "R",
   "name": "ir"
  },
  "language_info": {
   "codemirror_mode": "r",
   "file_extension": ".r",
   "mimetype": "text/x-r-source",
   "name": "R",
   "pygments_lexer": "r",
   "version": "3.6.1"
  }
 },
 "nbformat": 4,
 "nbformat_minor": 5
}
